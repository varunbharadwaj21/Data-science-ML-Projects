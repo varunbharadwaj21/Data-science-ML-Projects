{
 "cells": [
  {
   "cell_type": "markdown",
   "metadata": {
    "id": "9U2iAGqvlShv"
   },
   "source": [
    "1) Import Libraries"
   ]
  },
  {
   "cell_type": "code",
   "execution_count": 1,
   "metadata": {
    "id": "TmkMwMmTlW25"
   },
   "outputs": [],
   "source": [
    "import pandas as pd\n",
    "import numpy as np\n",
    "import matplotlib.pyplot as plt\n",
    "from sklearn.model_selection import train_test_split\n",
    "from sklearn.linear_model import LinearRegression\n",
    "from sklearn.metrics import mean_squared_error, r2_score"
   ]
  },
  {
   "cell_type": "markdown",
   "metadata": {
    "id": "r3J08oWxl-ou"
   },
   "source": [
    "2) Import the Dataset"
   ]
  },
  {
   "cell_type": "code",
   "execution_count": 3,
   "metadata": {
    "id": "9TXmFgwQmDJ3"
   },
   "outputs": [],
   "source": [
    "url = 'https://archive.ics.uci.edu/ml/machine-learning-databases/forest-fires/forestfires.csv'\n",
    "data = pd.read_csv(url)\n",
    "data = pd.get_dummies(data, columns=['month','day'])"
   ]
  },
  {
   "cell_type": "markdown",
   "metadata": {
    "id": "S1b2H2b-mIPZ"
   },
   "source": [
    "3) Analyze and Plot the Dataset"
   ]
  },
  {
   "cell_type": "code",
   "execution_count": 7,
   "metadata": {
    "colab": {
     "base_uri": "https://localhost:8080/"
    },
    "id": "Pm7651A3mJp-",
    "outputId": "b338f4a6-aba9-4297-b22e-1d43ffe1f046"
   },
   "outputs": [
    {
     "name": "stdout",
     "output_type": "stream",
     "text": [
      "   X  Y  FFMC   DMC     DC  ISI  temp  RH  wind  rain  ...  month_nov  \\\n",
      "0  7  5  86.2  26.2   94.3  5.1   8.2  51   6.7   0.0  ...          0   \n",
      "1  7  4  90.6  35.4  669.1  6.7  18.0  33   0.9   0.0  ...          0   \n",
      "2  7  4  90.6  43.7  686.9  6.7  14.6  33   1.3   0.0  ...          0   \n",
      "3  8  6  91.7  33.3   77.5  9.0   8.3  97   4.0   0.2  ...          0   \n",
      "4  8  6  89.3  51.3  102.2  9.6  11.4  99   1.8   0.0  ...          0   \n",
      "\n",
      "   month_oct  month_sep  day_fri  day_mon  day_sat  day_sun  day_thu  day_tue  \\\n",
      "0          0          0        1        0        0        0        0        0   \n",
      "1          1          0        0        0        0        0        0        1   \n",
      "2          1          0        0        0        1        0        0        0   \n",
      "3          0          0        1        0        0        0        0        0   \n",
      "4          0          0        0        0        0        1        0        0   \n",
      "\n",
      "   day_wed  \n",
      "0        0  \n",
      "1        0  \n",
      "2        0  \n",
      "3        0  \n",
      "4        0  \n",
      "\n",
      "[5 rows x 30 columns]\n",
      "<class 'pandas.core.frame.DataFrame'>\n",
      "RangeIndex: 517 entries, 0 to 516\n",
      "Data columns (total 30 columns):\n",
      " #   Column     Non-Null Count  Dtype  \n",
      "---  ------     --------------  -----  \n",
      " 0   X          517 non-null    int64  \n",
      " 1   Y          517 non-null    int64  \n",
      " 2   FFMC       517 non-null    float64\n",
      " 3   DMC        517 non-null    float64\n",
      " 4   DC         517 non-null    float64\n",
      " 5   ISI        517 non-null    float64\n",
      " 6   temp       517 non-null    float64\n",
      " 7   RH         517 non-null    int64  \n",
      " 8   wind       517 non-null    float64\n",
      " 9   rain       517 non-null    float64\n",
      " 10  area       517 non-null    float64\n",
      " 11  month_apr  517 non-null    uint8  \n",
      " 12  month_aug  517 non-null    uint8  \n",
      " 13  month_dec  517 non-null    uint8  \n",
      " 14  month_feb  517 non-null    uint8  \n",
      " 15  month_jan  517 non-null    uint8  \n",
      " 16  month_jul  517 non-null    uint8  \n",
      " 17  month_jun  517 non-null    uint8  \n",
      " 18  month_mar  517 non-null    uint8  \n",
      " 19  month_may  517 non-null    uint8  \n",
      " 20  month_nov  517 non-null    uint8  \n",
      " 21  month_oct  517 non-null    uint8  \n",
      " 22  month_sep  517 non-null    uint8  \n",
      " 23  day_fri    517 non-null    uint8  \n",
      " 24  day_mon    517 non-null    uint8  \n",
      " 25  day_sat    517 non-null    uint8  \n",
      " 26  day_sun    517 non-null    uint8  \n",
      " 27  day_thu    517 non-null    uint8  \n",
      " 28  day_tue    517 non-null    uint8  \n",
      " 29  day_wed    517 non-null    uint8  \n",
      "dtypes: float64(8), int64(3), uint8(19)\n",
      "memory usage: 54.2 KB\n",
      "None\n"
     ]
    }
   ],
   "source": [
    "print(data.head())\n",
    "print(data.info())  # Get information about the dataset"
   ]
  },
  {
   "cell_type": "markdown",
   "metadata": {
    "id": "BOUNGZ_ima2F"
   },
   "source": [
    "4) Clean Dataset (if Required)"
   ]
  },
  {
   "cell_type": "markdown",
   "metadata": {
    "id": "GBTmgDaznl37"
   },
   "source": [
    "5) Divide the Dataset"
   ]
  },
  {
   "cell_type": "code",
   "execution_count": 8,
   "metadata": {
    "id": "JCzCp8sCnwXS"
   },
   "outputs": [],
   "source": [
    "X = data.drop('area', axis=1)\n",
    "y = data['area']  # Targeted variable (burned area)\n",
    "X_train, X_test, y_train, y_test = train_test_split(X, y, test_size=0.2, random_state=42)"
   ]
  },
  {
   "cell_type": "markdown",
   "metadata": {
    "id": "yx-885Aln0Ou"
   },
   "source": [
    "6) Apply Algorithms:"
   ]
  },
  {
   "cell_type": "code",
   "execution_count": 9,
   "metadata": {
    "id": "jdVCgKfMn8ZW"
   },
   "outputs": [],
   "source": [
    "model = LinearRegression()\n",
    "model.fit(X_train, y_train)\n",
    "predictions = model.predict(X_test)\n"
   ]
  },
  {
   "cell_type": "markdown",
   "metadata": {
    "id": "JI-KSSDDoBge"
   },
   "source": [
    "7) Evaluate the model"
   ]
  },
  {
   "cell_type": "code",
   "execution_count": 10,
   "metadata": {
    "colab": {
     "base_uri": "https://localhost:8080/"
    },
    "id": "raT51VdNoFwd",
    "outputId": "1710f030-f33f-4ab2-b280-fd4e81d75632"
   },
   "outputs": [
    {
     "name": "stdout",
     "output_type": "stream",
     "text": [
      "Mean Squared Error: 11613.674532130455\n",
      "R-squared: 0.014768502010550688\n"
     ]
    }
   ],
   "source": [
    "mse = mean_squared_error(y_test, predictions)\n",
    "r2 = r2_score(y_test, predictions)\n",
    "print(f'Mean Squared Error: {mse}')\n",
    "print(f'R-squared: {r2}')\n"
   ]
  },
  {
   "cell_type": "code",
   "execution_count": null,
   "metadata": {},
   "outputs": [],
   "source": []
  }
 ],
 "metadata": {
  "colab": {
   "provenance": []
  },
  "kernelspec": {
   "display_name": "Python 3 (ipykernel)",
   "language": "python",
   "name": "python3"
  },
  "language_info": {
   "codemirror_mode": {
    "name": "ipython",
    "version": 3
   },
   "file_extension": ".py",
   "mimetype": "text/x-python",
   "name": "python",
   "nbconvert_exporter": "python",
   "pygments_lexer": "ipython3",
   "version": "3.11.4"
  }
 },
 "nbformat": 4,
 "nbformat_minor": 1
}
