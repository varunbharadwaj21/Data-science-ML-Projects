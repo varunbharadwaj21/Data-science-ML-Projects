{
  "nbformat": 4,
  "nbformat_minor": 0,
  "metadata": {
    "colab": {
      "provenance": []
    },
    "kernelspec": {
      "name": "python3",
      "display_name": "Python 3"
    },
    "language_info": {
      "name": "python"
    }
  },
  "cells": [
    {
      "cell_type": "code",
      "execution_count": null,
      "metadata": {
        "id": "r0WX0vc_J7XJ"
      },
      "outputs": [],
      "source": [
        "#import keras\n",
        "import numpy as np\n",
        "import tensorflow as tf\n",
        "from tensorflow.keras.models import Sequential\n",
        "from tensorflow.keras.layers import Dense,Activation,Dropout,Flatten\n",
        "from tensorflow.keras.optimizers import Adam\n",
        "import tensorflow_datasets as fels"
      ]
    },
    {
      "cell_type": "code",
      "source": [
        "(x_train,y_train),(x_test,y_test)=tf.keras.datasets.fashion_mnist.load_data()"
      ],
      "metadata": {
        "colab": {
          "base_uri": "https://localhost:8080/"
        },
        "id": "h143rUGgKDKf",
        "outputId": "a57c48df-4ab3-4cab-e7f9-f78c0d049960"
      },
      "execution_count": null,
      "outputs": [
        {
          "output_type": "stream",
          "name": "stdout",
          "text": [
            "Downloading data from https://storage.googleapis.com/tensorflow/tf-keras-datasets/train-labels-idx1-ubyte.gz\n",
            "29515/29515 [==============================] - 0s 0us/step\n",
            "Downloading data from https://storage.googleapis.com/tensorflow/tf-keras-datasets/train-images-idx3-ubyte.gz\n",
            "26421880/26421880 [==============================] - 0s 0us/step\n",
            "Downloading data from https://storage.googleapis.com/tensorflow/tf-keras-datasets/t10k-labels-idx1-ubyte.gz\n",
            "5148/5148 [==============================] - 0s 0us/step\n",
            "Downloading data from https://storage.googleapis.com/tensorflow/tf-keras-datasets/t10k-images-idx3-ubyte.gz\n",
            "4422102/4422102 [==============================] - 0s 0us/step\n"
          ]
        }
      ]
    },
    {
      "cell_type": "code",
      "source": [
        "print(x_train.shape)\n",
        "print(x_test.shape)"
      ],
      "metadata": {
        "colab": {
          "base_uri": "https://localhost:8080/"
        },
        "id": "skAOPjauKGFX",
        "outputId": "5221b27b-fbc3-4f62-9f00-de97202e4d02"
      },
      "execution_count": null,
      "outputs": [
        {
          "output_type": "stream",
          "name": "stdout",
          "text": [
            "(60000, 28, 28)\n",
            "(10000, 28, 28)\n"
          ]
        }
      ]
    },
    {
      "cell_type": "code",
      "source": [
        "import matplotlib.pyplot as plt\n",
        "index_image=15\n",
        "print(y_train[index_image])\n",
        "plt.imshow(x_train[index_image],cmap='Greys')\n",
        "plt.show()"
      ],
      "metadata": {
        "colab": {
          "base_uri": "https://localhost:8080/",
          "height": 447
        },
        "id": "VvBhQtS3KIvu",
        "outputId": "146dc6ae-cc1f-4c6b-ae32-bab54d970331"
      },
      "execution_count": null,
      "outputs": [
        {
          "output_type": "stream",
          "name": "stdout",
          "text": [
            "9\n"
          ]
        },
        {
          "output_type": "display_data",
          "data": {
            "text/plain": [
              "<Figure size 640x480 with 1 Axes>"
            ],
            "image/png": "[encoded data removed]"
          },
          "metadata": {}
        }
      ]
    },
    {
      "cell_type": "code",
      "source": [
        "model=Sequential([\n",
        "    Flatten(input_shape=(28,28)),\n",
        "    Dense(2048,activation='relu'),\n",
        "    Dense(1024,activation='relu'),\n",
        "    Dense(512,activation='relu'),\n",
        "    Dense(10,activation='Softmax')\n",
        "])"
      ],
      "metadata": {
        "id": "NKDejtGeKYT3"
      },
      "execution_count": null,
      "outputs": []
    },
    {
      "cell_type": "code",
      "source": [
        "model.compile(optimizer='adam',loss='sparse_categorical_crossentropy',metrics=['accuracy'])"
      ],
      "metadata": {
        "id": "XDU7SgiHMB9P"
      },
      "execution_count": null,
      "outputs": []
    },
    {
      "cell_type": "code",
      "source": [
        "history=model.fit(x_train,y_train,epochs=5,verbose=2)\n",
        "print(history.epoch,history.history['accuracy'][-1])"
      ],
      "metadata": {
        "colab": {
          "base_uri": "https://localhost:8080/"
        },
        "id": "gDt6dt2uNfHe",
        "outputId": "8d718e45-99fd-47bf-ca8e-6b83cfdaad33"
      },
      "execution_count": null,
      "outputs": [
        {
          "output_type": "stream",
          "name": "stdout",
          "text": [
            "Epoch 1/5\n",
            "1875/1875 - 113s - loss: 2.1692 - accuracy: 0.7960 - 113s/epoch - 60ms/step\n",
            "Epoch 2/5\n",
            "1875/1875 - 111s - loss: 0.4541 - accuracy: 0.8382 - 111s/epoch - 59ms/step\n",
            "Epoch 3/5\n",
            "1875/1875 - 112s - loss: 0.4176 - accuracy: 0.8519 - 112s/epoch - 60ms/step\n",
            "Epoch 4/5\n",
            "1875/1875 - 116s - loss: 0.3909 - accuracy: 0.8603 - 116s/epoch - 62ms/step\n",
            "Epoch 5/5\n",
            "1875/1875 - 107s - loss: 0.3823 - accuracy: 0.8644 - 107s/epoch - 57ms/step\n",
            "[0, 1, 2, 3, 4] 0.864383339881897\n"
          ]
        }
      ]
    },
    {
      "cell_type": "code",
      "source": [],
      "metadata": {
        "id": "CjiOJ8cDN3t3"
      },
      "execution_count": null,
      "outputs": []
    }
  ]
}